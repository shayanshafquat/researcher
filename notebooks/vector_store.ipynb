{
 "cells": [
  {
   "cell_type": "code",
   "execution_count": 3,
   "metadata": {},
   "outputs": [
    {
     "data": {
      "text/plain": [
       "True"
      ]
     },
     "execution_count": 3,
     "metadata": {},
     "output_type": "execute_result"
    }
   ],
   "source": [
    "from dotenv import load_dotenv\n",
    "load_dotenv()"
   ]
  },
  {
   "cell_type": "code",
   "execution_count": 4,
   "metadata": {},
   "outputs": [],
   "source": [
    "import openai\n",
    "import os\n",
    "# from utils.vector_store import search_similar_chunks\n",
    "import numpy as np\n",
    "\n",
    "openai.api_key = os.getenv(\"OPENAI_API_KEY\")"
   ]
  },
  {
   "cell_type": "code",
   "execution_count": 5,
   "metadata": {},
   "outputs": [],
   "source": [
    "from unstructured.partition.auto import partition\n",
    "import logging\n",
    "import fitz\n",
    "from langchain.text_splitter import RecursiveCharacterTextSplitter\n",
    "from typing import List\n",
    "import faiss\n",
    "import numpy as np\n",
    "from langchain.embeddings import HuggingFaceEmbeddings"
   ]
  },
  {
   "cell_type": "code",
   "execution_count": 6,
   "metadata": {},
   "outputs": [],
   "source": [
    "def extract_text(file_path: str) -> str:\n",
    "    try:\n",
    "        doc = fitz.open(file_path)  # Open the PDF\n",
    "        all_text = \"\"\n",
    "        for page in doc:\n",
    "            all_text += page.get_text(\"text\") + \"\\n\"\n",
    "        doc.close()\n",
    "        return all_text\n",
    "    except Exception as e:\n",
    "        logging.error(f\"Error extracting text from {file_path}: {e}\")\n",
    "        raise HTTPException(status_code=500, detail=f\"Error extracting text from PDF: {str(e)}\")"
   ]
  },
  {
   "cell_type": "code",
   "execution_count": 7,
   "metadata": {},
   "outputs": [
    {
     "data": {
      "text/plain": [
       "'”Neuronal Oscillations on Evolving Networks: Dynamics, Damage, Degradation,\\nDecline, Dementia and Death”: A review and extension of Goreily et al. (2020)\\nShayan Shafquat,1 Zongyuan Cai,1 Youssef Hafid,1 and Zakaria Taghi1\\n1School of Psychology, University of Nottingham, Nottingham, NG7 2RD, UK\\n(Dated: May 6, 2024)\\nThe paper ”Neuronal Oscillations on Evolving Networks: Dynamics, Damage, Degradation, De-\\ncline, Dementia, and Death” by Goreily et al. (2020) delves into the effects of neurodegenerative\\ndiseases on brain neural networks [1]. The degradation caused by these diseases affects not only the\\nnodes themselves but the strength of the connections between these nodes. The resulting connec-\\ntome evolves as the disease progresses, with damage caused by the disease affecting the spreading of\\nthe disease, although minutely. The progression of the disease is modelled through both toxic pro-\\ntein accumulation and rest-state activity. In this paper, we attempt to recreate the results of their\\nstudy and delve further into extending their work and understanding the implications of their model.\\nProtein seed concentration and the diffusion model used both influence the damage accumulation in\\nthe connectome. This is reflected in the decay in both neural activity within the neural mass model\\nas well as a decay in axonal velocity. Our findings reinstate that changes in edge weights have a\\nlimited impact on the disease’s progression. However, dynamic biomarkers have been effective in\\nforecasting a significant cognitive decline over a decade.\\nI.\\nINTRODUCTION\\nA.\\nBiology\\nAlzheimer’s disease (AD) is a progressive neurodegen-\\nerative disorder leading to severe cognitive and func-\\ntional impairments.\\nThese symptoms are a result of\\nsynaptic dysfunction and death of neurons, particu-\\nlarly in the hippocampus and other parts of the cere-\\nbral cortex[2]. The major hallmarks of AD include the\\npathological deposition of amyloid-beta (Aβ) plaques\\nand neurofibrillary tangles composed of tau protein in\\nthe brain, both contributing to neuronal loss and brain\\natrophy[3]\\nThe onset of AD is typically in later life, however\\nthere is evidence suggesting that prior to noticeable\\nsymptoms, there are measureable changes to neural\\nbiomarkers.\\nGiven evidence that that early interven-\\ntion results in improved patient outcomes[4], develop-\\ning a reliable early indicator or AD is of huge clinical\\nimportance.\\nB.\\nModelling\\nWe replicate the model of Goriely et al[1], combin-\\ning a long term protein spread model following a prion-\\nlike paradigm with a neural biomarker model, prompted\\nby evidence linking degenerative diseases to misfolded\\nproteins[2], [3], [5]. Basing their initial conditions and\\nconnections on the Budapest Reference Connectome\\nv3.04,[6] they modelled disease progression as an evolv-\\ning undirected graph, and toxic protein accumulation\\nwithin nodes modelled using the Fisher-Kolmogorov-\\nPetrovsky-Piskunov equation. Change in damage was\\nquantified and modelled within individual nodes based\\non toxic protein toxicity, toxic protein concentration,\\nand current node damage, modelling changes in con-\\nnectivity based on node damage.\\nThe nodes selected\\nfor initial seeding with toxic protein were those repre-\\nsenting the entorhinal area, based on research suggest-\\ning it may be the initial locus of neurofibrillary tangles\\ncaused by misfolded tau proteins withing Alzheimer’s\\ndisease progression[7]. Using structural biomarkers they\\nobserved even unrealistically high damage made negligi-\\nble difference to the rise in concentration over time. This\\nmodelled the behaviour of pathogenic protein seeding,\\nby the time network damage hinders diffusion, the mis-\\nfolded proteins have already infiltrated and begun self\\nreplication. They were also able to model disease stag-\\ning through the brain by noting the variation in levels of\\ndamage between different regions over the time course of\\nthe disease. At each node, they used a Wilson-Cowan[8]\\ntype neural mass model to model brain activity, with\\nnodes connected through a delay differential equation\\nwith parameters chosen to approximate those in Deco\\net al[9], due to their validation using resting state fMRI.\\nModelling neural activity at intervals throughout dis-\\nease progression, and monitoring biomarkers associated\\nwith neurodegenerative disease in varying regions (the\\noverall power in the Gamma range, the average oscilla-\\ntory activity, and the metastability index). They were\\nable to model the decline of biomarkers, linking the phe-\\nnomenon to damage induced by toxic protein accumu-\\nlation, as well as observe their changes over disease pro-\\ngression. Our aim is to replicate the model, as well as\\nimplement the more biologically accurate heterodimer\\nmodel of protein conversion[10]. We also aim to utilize\\nthe model to investigate disease progression variation\\nbetween hemispheres.\\nC.\\nAims\\n• To replicate the neural mass and the resting-state\\ndynamics model and extend the findings of Goriely\\n\\n2\\net al. [1]\\n• To investigate how disease progression differs be-\\ntween hemispheres within the model\\n• To replicate the model of Fornari et al[10] which\\nalso implemented a heterodimer model of protein\\nspread and compare it’s results to that of Goriely\\net al’s model.\\nII.\\nMETHODS\\nOne key characteristic of prion-like diseases involves\\nthe propagation of misfolded proteins, which initially\\naffect a localized area and subsequently extend along\\naxonal pathways to pervade the entire brain [11].\\nThis propagation process is conceptualized as diffusion\\nthrough the brain’s connectome, depicted as a weighted\\nundirected graph, denoted by G0, consisting of N nodes\\nand E edges.\\nA.\\nThe connectivity-weighted graph\\nThe initial connectome graph G0 is derived from diffu-\\nsion tensor magnetic resonance imaging data collected\\nfrom 418 healthy individuals participating in the Hu-\\nman Connectome Project. This extraction utilizes the\\nBudapest Reference Connectome v. 3.0 framework [12].\\nFor illustrative purposes, a high-resolution connectome\\nwith 1015 nodes and 37,477 edges is transformed into a\\nmore accessible representation with 83 nodes and 1,130\\nedges (figure 1.\\nThe structure of the connectome, GT , reflects an undi-\\nrected updating weighted graph, observable at any time\\nT ≥0, with G0 serving as the starting point.\\nEach\\nnode k represents a specific brain region in Rs, where s\\nranges from 1 to 7, including the frontal, parietal, tem-\\nporal, and occipital lobes, as well as the limbic system,\\nthe basal ganglia, and the brain stem.\\nIncorporating\\nthe\\nmethodology\\nestablished\\nby\\nGoriely, Kuhl, and Bick [1], we first define the adja-\\ncency matrix W, which is a graph-based representation\\nof the connectome (GT ).\\nThe adjacency matrix is a\\nnumerical representation where each element wij de-\\nnotes the weight of the connection between node i and\\nnode j as in Figure (1). These weights are calculated\\nas wij = nij/lij, with nij indicating the number of\\naxonal fibres connecting the nodes—reflecting potential\\npathways for neural communication—and lij represent-\\ning the physical distance between these nodes, which\\ninfluences signal transmission efficacy.\\nB.\\nGraph Laplacian\\nThis structured representation of brain connectivity\\nis fundamental in constructing the Graph Laplacian L,\\nFIG. 1: The weighted connections in an 83-point\\nconnectome network indicate the density of fibres\\nrelative to the distances between nodes, with values\\nranging from 0 (blue) to 9.8 (red). The representation\\nof different regions of interest as colour-coded nodes\\nconnected by edges is also included.\\nformulated as L = ρ(D −W). Here, D is a diagonal\\nmatrix with entries dkk = PN\\nj=1 wkj, each summing the\\nconnection strengths wkj for node k across the network.\\nThe factor ρ acts as a scalar adjusting the overall rate of\\ntransport across the network, modifying how influences\\npropagate throughout the brain’s network structure.\\nThe Graph Laplacian L itself is instrumental in an-\\nalyzing the network’s dynamics. It allows for the ex-\\nploration of how disturbances spread and how the brain\\nmaintains stability amidst these changes.\\nIt captures\\nnot just the local connectivity by reflecting the con-\\nnection discrepancies at each node but also influences\\nglobal network properties by describing overall connec-\\ntivity and network responses to changes. Such analysis\\nis crucial for understanding both normal brain functions\\nand the impacts of neurodegenerative diseases.\\n\\n3\\nC.\\nDisease Progression\\nGoriely et al.’s [1] model quantified transport dynam-\\nics along the graph edges as a ballistic movement, tem-\\nporally scaled using the velocity constant, ρ. This fol-\\nlows the prion-like paradigm, proposing nonlinear prop-\\nagation of self-replicating toxic protein, and chosen due\\nto previous success in using prion-like models to predict\\nAlzheimer’s disease volumetrics from MRI scans [13],\\nand previous work where they were able to predict tau\\ninclusions and amyloid deposits [14]. A representation\\nof the brain connectome with 83 nodes, complemented\\nby an adjacency matrix, is illustrated in (figure 1).\\nD.\\nProtein Spread\\n1.\\nFisher-Kolmogorov-Petrovsky-Piskunov\\nWe reproduced the spread of protein misfolding ac-\\ncording to the Fisher-Kolmogorov-Petrovsky-Piskunov\\nequation, selected by Goriely et al.[1] due to its ease of\\ncomputation and prior performance emulating clinically\\nobserved Alzheimer’s disease (AD) progression.\\n˙ck = −\\nN\\nX\\nj=1\\nLkjcj + αck(1 −ck),\\nk = 1, . . . , N\\n(1)\\n2.\\nHeterodimer Model\\nThe Heterodimer model is the simplest kinetic model\\nthat accounts for the two possible configurations of the\\nprotein [15].\\nρ = 0.01mm/years\\np + ˜p\\nk′\\n11\\n−−→p˜p\\np ˜p\\nk′\\n12′\\n−−→˜p˜p\\nk′\\n22\\n−−→˜p + ˜p.\\n(2)\\nThrough this model, we can describe the transition\\nfrom healthy proteins(p) to bonded proteins(p\\n∼p) to\\npolymer fragments(˜p) as shown in equation (2).\\nThe\\nmisfolded protein binds to healthy proteins at rate k11′.\\nThe bonded healthy protein is converted to an un-\\nhealthy protein at rate k12′, and the bonded proteins\\nfragment and become two separate misfolded protein\\nfragments at a rate of k1′2′ [10].\\np + ˜p\\nk12\\n−−→˜p + ˜p.\\n(3)\\nThis equation can be simplified to represent the transi-\\ntion of one healthy and one misfolded protein into two\\nmisfolded proteins (See Equation 3). Using this simpli-\\nfication, a system of equations can be created defining\\nthe evolution of concentration of unhealthy and healthy\\nproteins.\\ndp\\ndt = ∆· (D · ∆p) + k0 −k1 · p −k12 · p ˜p\\n(4)\\nd˜p\\ndt = ∆· (D · ∆˜p) −˜k1 · ˜p + k12 · p ˜p.\\n(5)\\nThis system is shown in equations (4) and (5) where D is\\nthe diffusion tensor defining the way the protein would\\nspread through the network. When applying this system\\nof equations to the Budapest connectome used within\\nthe original paper, the model remains largely the same.\\nThe only difference would be the replacement of the\\nequation that defines the unhealthy protein concentra-\\ntion (See Equation 1) with the new system that defines\\nboth healthy and unhealthy protein concentrations. An\\nidentical diffusion tensor is used for both types of pro-\\ntein concentration. Therefore, how they move through\\nthe network are identical.\\nd˜p\\ndt = ∆· (D · ∆˜p) +\\n\\x14\\nk12\\nk0\\nk1\\n−˜k1\\n\\x15\\n˜p −k2\\n12k0\\nk2\\n1\\n(6)\\nBy making the assumption that initially p ≫˜p, we can\\nestimate the value of p in terms of k0, k1 and k12. Using\\na Taylor series, we can then substitute p into equation\\n(4). This step creates equation (6), giving us the Fisher-\\nKolmogorov model as it provides an equation for a single\\nmisfolded protein concentration c. [1].\\nE.\\nProtein concentration evolution\\nDamage to nodes was quantified using the variable\\nqk ∈[0, 1] ( 0 healthy, 1 maximal damage), modelled\\nusing the following equation:\\nβ = 0.25years−1\\nγ = 0.125years−1\\n˙qk = βck (1 −qk) ,\\nqk(0) = 0,\\nk = 1, . . . , N,\\n(7)\\n˙wkj = −γwkj (qk + qj) ,\\nk, j = 1, . . . , N.\\n(8)\\n1.\\nSeeding the graph\\nThe initial setup had ck(0) = 0 for all nodes with the\\nexception of the seed nodes. The seed nodes, c26(0) and\\nc68(0) were both set at 0.025. These seed nodes were\\nchosen due to their entorhinal location within the Bu-\\ndapest Connectome [6], being associated with the early\\nstages of dementia as well as misfolded tau aggregation\\nin AD.\\n\\n4\\n2.\\nEvolution of averaged toxic concentration and damage\\nDisplaying the impact of different levels of damage\\non the average concentration of toxic proteins and dam-\\nage in neural networks can deepen our understanding of\\nthe biophysical processes of neurodegenerative diseases,\\nsuch as AD. By comparing the dynamic changes un-\\nder different levels of damage, it is possible to observe\\nhow the disease affects the brain network over a long\\ntime scale, including the accumulation of toxic protein\\nconcentrations and network damage. This helps to un-\\nderstand how the disease progressively affects different\\nareas of the brain and leads to the decline of cognitive\\nfunctions.\\nTo explore the evolutionary process, several key\\nmodel equations are involved, including the temporal\\nevolution of the toxic protein concentration equation\\n(1), the temporal evolution of the node damage equa-\\ntion (7), and the temporal evolution of edge weights\\nequation (8). ck is the concentration of toxic proteins\\nat node k, qk is the degree of damage at node k, Lkj are\\nthe elements of the graph Laplacian, α is the conversion\\nrate and β is the toxicity coefficient. These are used in\\na differential equation model to simulate the evolution\\nof the neural network over time.\\nF.\\nResting-state brain dynamics\\nIn our investigation,\\nwe aimed to replicate the\\nmethodologies utilized by Goriely et al. [1] for analyzing\\nthe decline of cognitive functions via resting-state brain\\ndynamics.\\nThese dynamics unfold on timescales that\\nrange from seconds for resting-state activity to years\\nfor the progression of the disease.\\nAccordingly, the\\ndisease dynamics are considered quasi-stationary dur-\\ning the short observational windows. At time t = T,\\nthe connectome GT is assumed to be constant despite\\nits being ever-changing, allowing for the examination of\\nresting-state activity.\\nDrawing on the foundational model presented by\\nGoriely et al., we engaged a neural-mass model at each\\nnode, which simulates large-scale excitatory and in-\\nhibitory neural interactions akin to the Wilson-Cowan\\nframework, as cited in their study [9, 16]. The intrinsic\\ndynamics of the uncoupled nodes exhibit characteristics\\nof a supercritical Hopf bifurcation, leading to an ex-\\nponential decay of activity as the system approaches a\\nstable fixed point. This behaviour is captured in figure\\n(2), which displays the exponential decay of excitatory\\nand inhibitory amplitudes for node 5 when it is uncou-\\npled, oscillating around a frequency of approximately\\n40 Hz. The condition of each node k is described by a\\ncomplex variable zk, with the fundamental component\\nreflecting excitatory population activity and the imagi-\\nnary component corresponding to inhibitory population\\nactivity.\\nIn our simulations of the network GT , weights W =\\nW(T) facilitate the interaction between neural popula-\\nFIG. 2: Temporal evolution of excitatory (top panel)\\nand inhibitory (bottom panel) amplitudes for node 5\\nin an uncoupled state, demonstrating an exponential\\ndecay with predominant oscillations at approximately\\n40 Hz. This reflects the decay dynamics characteristic\\nof a supercritical Hopf bifurcation in a neural mass\\nmodel.\\ntions via the excitatory component as in equation (10).\\nThe coupling term may allow the network of nodes to\\nhave sustained oscillation, as can be seen from the ac-\\ntivity plots and the phase plots in figure (3). The inter-\\naction is further modulated by the sigmoidal function\\nS(x) = 1/(1 + e−x) through a delay differential equa-\\ntion.\\n˙zk = F (zk) + κS\\n\\uf8eb\\n\\uf8edRe\\n\\uf8eb\\n\\uf8ed\\nN\\nX\\nj=1\\nwkjzj (t −τkj)\\n\\uf8f6\\n\\uf8f8\\n\\uf8f6\\n\\uf8f8\\n(9)\\n∂Xk\\n∂t\\n=λXk −ωkYk −Xk(X2\\nk + Y 2\\nk )\\n+ kS\\n\\uf8eb\\n\\uf8ed\\nN\\nX\\nj=1\\nwkjxj(t −τkj)\\n\\uf8f6\\n\\uf8f8\\n(10)\\n∂Yk\\n∂t = λYk + ωkXk −Yk(X2\\nk + Y 2\\nk )\\n(11)\\nThe internal dynamics of each node are described by\\nF(zk) = zk(λ+iωk−|zk|2), with a decay rate λ = −0.01,\\nintrinsic frequencies ωk = ω + δk = 40 Hz +δk, where\\nδk are randomly sampled from a normal distribution\\nwith zero mean and a variance of 0.1 Hz. The coupling\\ngain κ = 10 and delays τkj are scaled according to node\\ndistances within the connectome data. These parame-\\nters are selected to mirror the neural-mass model, which\\naligns with fMRI observations during rest states [9].\\n1.\\nDiscretising the delays\\nIn the resting-state brain dynamics simulations, an\\nimportant consideration is the communication delay be-\\ntween different regions of the brain. These delays de-\\npend on the length of axonal fibres and the signal trans-\\nmission speed, which was considered to be 1.5 m/s, as\\n\\n5\\nFIG. 3: Top panels display the excitatory (left) and\\ninhibitory (right) neural activities for node 5 after\\nintroducing coupling to the system, illustrating the\\ntransition to sustained oscillations indicative of\\nnetwork interactivity. The bottom panels show the\\nphase plots for nodes 5 (left) and 68 (right), with node\\n5 exhibiting complex oscillatory patterns, while node\\n68 demonstrates a limit cycle, providing insights into\\nthe diverse dynamical states achievable within the\\nnetwork. These behaviours emphasize the critical role\\nof coupling in facilitating rich dynamical regimes\\nacross the brain’s connectome.\\nreferenced by Goriely et al. [1]. The delay distribution\\nprovides insight into the typical timeframes for neural\\nsignal propagation across the connectome, as evidenced\\nin figure (4). To simplify the computational model with-\\nout losing essential dynamics, these delays were dis-\\ncretized into 40 distinct categories. This discretization\\nprocess allows for incorporating realistic transmission\\ntimes into the coupling term as τkj while simulating the\\nexcitatory signal as in the equation (10). However, dur-\\ning the investigation of the resting state dynamics after\\neach year of disease progression, the speed and the fiber\\nlength were kept constant.\\nWith the original graph G0, collective oscillations are\\nnoticed, and in the absence of coupling, the amplitudes\\ndecline exponentially, displaying a frequency near 40 Hz.\\nG.\\nDynamic biomarkers\\nIn our endeavour to replicate the decline in cognitive\\nfunctions described in [1], we reimplemented three dy-\\nnamic indices derived from a 10-second simulation of\\nthe resting state brain dynamics, encapsulated in the\\nequation (9). These indices are:\\nFIG. 4: Analysis of transmission delays in the brain’s\\nconnectome. The top panel illustrates the probability\\ndensity function of inter-nodal delays, providing an\\noverview of prevalent transmission times within the\\nnetwork. The bottom panel presents a heatmap of\\nthese delays post-discretization into 40 distinct\\ntemporal categories, essential for modeling the\\ndynamics of neural communication with a degree of\\ncomputational efficiency.\\n(a) Overall power in the gamma range, expressed as:\\nP(T) =\\nZ\\nΓ\\nPSD(⟨z⟩)(Ω) dΩ,\\n(12)\\nwhere PSD is the power spectral density of ⟨z⟩=\\n1\\nN\\nPN\\nj=1 Re(zj), and Γ denotes the Gamma fre-\\nquency band.\\n(b) Average Oscillatory Activity, determined by:\\nA(T) = 1\\nN\\nN\\nX\\nj=1\\n1\\ntsim\\nZ tsim\\n0\\n|zj(t)| dt,\\n(13)\\nrepresenting the mean signal magnitude over all\\nnodes throughout the simulation duration.\\n(c) Metastability Index, calculated as:\\nB(T) = 1\\nN\\nN\\nX\\nj=1\\nσ2\\nt (|zj(t)|),\\n(14)\\nwhere σ2\\nt signifies the variance of the signal’s mag-\\nnitude within the simulation time frame.\\nFor each regional set Rs, these measures Ps, As, and\\nBs are summed over their respective nodes and normal-\\nized accordingly.\\nThese biomarkers are known to be\\nindicative of cognitive faculties and have links to neu-\\nrodegenerative diseases [17].\\nH.\\nHomeostasis\\nTo replicate the original study’s findings on neural\\nnetwork homeostasis, the dynamic nature of neuronal\\nconnections was taken into account. These connections\\nare not static but rather adapt in response to ongo-\\ning neural dynamics, contributing to the maintenance\\n\\n6\\nof network homeostasis [18]. We reimplemented a sim-\\nple model of homeostatic adaptation, which maintained\\nthe average connectome coupling over time [1]. Given a\\nhomeostatic adaptation parameter ξ ∈[0, 1], the initial\\nweight matrix is W(0), and the scaled weight matrix at\\ntime T is updated according to:\\nW(T) =\\n\\x14\\n(1 −ξ) + ξ\\n\\x12∥W(T −1)∥\\n∥W(T)∥\\n\\x13\\x15\\nW(T)\\n(15)\\nfor T = 1, 2, ... where ∥· ∥denotes the matrix norm.\\nξ the parameter that ranges between 0 and 1 scales\\nthe connectome weights annually, adjusting the network\\nchanges that accompany disease progression. At ξ = 0,\\nthe network undergoes no homeostatic changes, and al-\\nterations are exclusively due to the disease’s impact.\\nAt ξ = 1, the network fully adapts, maintaining an in-\\nvariant average coupling weight throughout the disease\\nprogression. This adaptation ensures that changes in\\ncoupling strength within one region due to the disease\\nare balanced by compensatory changes in other regions,\\nthus preserving the overall coupling strength of the net-\\nwork.\\nThis approach facilitates reproduction of the original\\nweighted connectome, essential for simulating resting-\\nstate dynamics that reflect the network’s adaptation to\\nneurodegenerative processes. The interplay between the\\nevolving structural network and the associated cognitive\\nfunctionalities could thus be scrutinized throughout the\\ndisease’s progression.\\nIII.\\nRESULTS\\nA.\\nEvolution of averaged toxic concentration and\\ndamage\\nBy exploring the averaged toxic protein concentra-\\ntions, node damage and edge weights in this system\\n(seeing Fig. 5), it is possible to observe how node dam-\\nage affects disease progression. The red line W can be\\ninterpreted as representing the extent of network de-\\nstruction, with the dashed line indicating rapid network\\ndegradation within 15 years (β = 4, γ = 2), employing\\nunrealistic parameters, while the solid line illustrates\\nsevere damage (β = 1/4, γ = 1/8). Over time, it is ob-\\nservable that the trajectories of protein concentration\\nchange in scenarios of severe damage closely align with\\nthose of undamaged networks (β = 0, γ = 0), suggest-\\ning negligible differences between them. By setting the\\ndamage parameters to unrealistic values for compari-\\nson with the severely damaged case, it becomes evident\\nthat network destruction does not significantly impact\\nthe increase in toxic protein concentration, indicating\\nthat network destruction does not markedly slow the\\nprogression of the disease but merely delays the onset\\nto some extent [1].\\nFIG. 5: The evolution of toxic protein concentration,\\nnode damage and edge weight over time with different\\ndegrees of damage.\\nB.\\nDisease Progression\\nWhen recreating the model, The same trends in re-\\ngional damage can be observed as that in the paper.\\nThe limbic region receives the most damage initially due\\nto the entorhinal nodes becoming located in the limbic\\n’Super region’. This damage is then quickly seen in the\\ntemporal and parietal regions due to their nodes adja-\\ncency to the limbic region. However, the limbic region’s\\ndamage increase is slower compared to the other regions.\\nLikely due to the lower edge weights of the connections\\ngoing to these nodes. (See Figure 6)\\nFIG. 6: This figure demonstrates the increase in\\ndamage over time using the original model found in\\nthe paper.\\nC.\\nHeterodimer model\\nFor further analysis, we also compared the results of\\nthe Fisher-Kolmogorov-Petrovsky-Piskunov model with\\nthat of a simple Heterodimer model.\\nThose models\\ndisplayed similar results except with a slower overall\\n\\n7\\ngrowth rate of damage in all regions. The model also\\ndiffered in how one region’s damage affected the next.\\nIn the original model, the damage in each region started\\nincreasing in a similar time period, whereas when look-\\ning at the Heterodimer model, a slight difference in rate\\nat which damage grows can be observed, this causes.\\nPrior damage can be seen to have a greater effect on\\nthe rate at which future damage occurs, resulting in a\\n’flatter’ graph in Figure (7).\\nFIG. 7: The above figure shows the damage in each\\nregion using the Heterodimer model. The ’c’ value in\\nthe original model is replaced with the\\n∼p in the\\nHeterodimer model.\\nD.\\nProtein Seeding\\nTwo key factors to consider when seeding misfolded\\nproteins into the model are the location of the seeded\\nnodes and the concentration of the proteins seeded.\\nThe first factor we explored was the concentration of\\nthe seeded protein.\\nWe compared the results of set-\\nting the seeded nodes to a protein concentration of 0.1\\nthrough to 1, this was compared against each other and\\nthen to the default concentration in the original model\\n(0.025). As expected, a higher initial protein concen-\\ntration caused the damage in the network to propagate\\nfaster than a lower one. The rate of damage growth re-\\nmained consistent when comparing regions against one\\nanother, no matter the protein concentration. (See Fig-\\nures 8 and 9)\\nE.\\nInter-hemisphere variation\\nDamage progression is varied across nodes (figure 10),\\nwith the variation in time of onset of damage, rates of\\nchange and final severity, with a variation seen within\\nthe connectome as a whole (A) as well as within sin-\\ngle regions (B, C, D). Our results seem to indicate a\\ngenerally higher and faster increase in damage in the\\nleft hemisphere nodes within a region. This divergence\\nvaried regionally however, in limbic nodes there is clear\\nFIG. 8: This figure demonstrates the damage over time\\nin the network on a per-region basis. The seed protein\\nconcentrated is also changed in this figure with more\\nopaque colours having higher seed concentrations.\\nFIG. 9: This figure demonstrates the effect the seeded\\nprotein concentration has on the global damage growth\\nwithin the network.\\nseparation between left and right hemisphere nodes (fig-\\nure 10 C), however in temporal and basal ganglia nodes\\n(figure 10 B and D) there was far more overlap. The\\npattern of damage can vary considerably between dif-\\nferent hemispheres, even within the same region and\\npresumably equivalent nodes.\\nThe difference in damage between pairs of equivalent\\nnodes between hemispheres (figure 11) shows a fairly\\nconsistent pattern, with divergence rising to a peak,\\nthen lowering again as the damage approached the the-\\noretical maximum of 1. In most cases, that damage gen-\\nerally accumulates faster in the left hemisphere than the\\nright, though there are many nodes where the opposite\\nis true.\\nF.\\nCognitive decline after physical damage\\nIn\\nthe\\nnumerical\\nimplementation\\nof\\ndynamic\\nbiomarker calculations within neural networks, the code\\nutilizes advanced signal processing techniques.\\nThe\\nGamma range power as in equation (12) is estimated\\n\\n8\\nFIG. 10: Progression of damage within individual\\nnodes in a variety of regions, coloured according to\\nhemisphere. A: All nodes in the connectome. B: Nodes\\nwithin the temporal region. C: Nodes within the\\nlimbic system. D: Nodes within the basal ganglia\\nFIG. 11: Difference in damage between equivalent\\nnodes across hemispheres: Red lines represent where\\ndamage is greater in the left hemisphere, whereas blue\\nindicates the opposite. The peak divergence for each\\npair of nodes is indicated by the dots.\\nthrough the Welch method, an approach that segments\\nthe signal, applies windowing, and computes an aver-\\naged periodogram to derive the power spectral density\\n(PSD). This PSD is then interpolated and integrated\\nacross a specified frequency band to calculate PT. For\\nthe average oscillatory activity as in equation (13), the\\ntrapezoidal rule integrates the absolute values of the\\nneural activity signal over time. The metastability in-\\ndex as in equation (14) (BT) is computed as the mean\\nvariance of the signal magnitude, reflecting the tempo-\\nral fluctuations in neural activity. Both global and re-\\ngional metrics are extracted, providing a comprehensive\\nanalysis of network dynamics through these biomarkers,\\nwhich are pivotal in understanding the functional con-\\nnectivity and stability of the brain under various condi-\\ntions.\\nFIG. 12: Evolution of Dynamic Brain Biomarkers Over\\nTime. This figure displays the mean and standard\\ndeviation of dynamic biomarkers, representing Gamma\\nrange power (PT), average oscillatory activity (AT),\\nand metastability index (BT) across years for three\\ndifferent intrinsic frequency realizations. A stable\\nprofile is observed for up to 20 years, beyond which a\\nmarked decline correlates with physical damage in the\\nbrain. The early decline in oscillatory activity within\\nthe occipital lobe suggests its critical role in disease\\nonset, which is different from the original findings [1].\\nThe average amplitude provides an overview of neural\\nactivity levels, and the metastability index is interpreted\\nas a proxy for information processing [19]. To assess the\\ndisease’s influence on neural dynamics, we replicated the\\nsimulations on an evolving brain connectome at incre-\\nmental time points T as in equation (9). The method-\\nological details are accessible in the supplementary text\\nof Goriely et al.’s work [1]. The figure (12) portrays the\\nmean values and standard deviations of these dynami-\\ncal markers, normalized against the baseline of a healthy\\nbrain at T=0 across 6 realizations. This visualization re-\\nveals a parallel trend to the original study, maintaining\\nstability for up to 20 years into the disease’s progres-\\n\\n9\\nsion. Although the brain endures substantial structural\\ndamage by this juncture, as illustrated in our figure (5),\\nthe brain exhibits prolonged resilience to such structural\\ndamage.\\nHowever, beyond this period, there is an evident shift\\nin dynamics, observable in the diminished capacity of\\nnodes to sustain oscillatory activities, a phenomenon\\nour reproduction accurately reflects with a more pro-\\nnounced variability as noted in the lowest panel of the\\nfigure (12). Localized dynamical markers elucidate the\\ndisparity in how the disease’s spread alters neural dy-\\nnamics, with our data revealing a decrease in oscillatory\\nactivity within the occipital lobe that heralds the on-\\nset of global dynamic shifts. Unlike the original study,\\nwhere the decline in the temporal lobe’s oscillatory ac-\\ntivity precedes global alterations, which may be because\\nof the discrepancy in the structural connectivity matrix\\nwe worked with as in figure (1). These observations indi-\\ncate that the rate of damage accumulation and network\\ntopology play critical roles in determining the threshold\\nfor oscillatory dynamics deterioration.\\nG.\\nAdaptation slows Cognitive Decline\\nIn this study, the resting-state dynamics were repli-\\ncated, as delineated by equation (9), with the inclusion\\nof a homeostatic adjustment mechanism described in\\nequation (15).\\nThe resultant data, illustrated in fig-\\nure (13), delineate the evolution of the mean amplitude\\nA(T) as the disease progresses across a spectrum of val-\\nues for the adaptation parameter ξ.\\nIt was observed\\nthat increasing homeostatic control did not precipitate\\na change in the initial stage (around year 13), where os-\\ncillatory activity begins to decline. Instead, it appeared\\nto mitigate the rate of neural degeneration. However,\\nit was assumed that when cognitive functions begin to\\ndiminish past a specific threshold, such deceleration in\\ndisease progression could potentially also delay the com-\\nmencement of the critical transition phase.\\nAdditionally, figure (13) shows the mean oscillation\\namplitude within the limbic lobe. Notably, a decline in\\noscillatory activity globally preceded the limbic region,\\nirrespective of the adaptation parameter’s magnitude.\\nThis pattern persisted even with maximal adaptation\\n(ξ = 1), wherein the aggregate oscillatory activity re-\\nmained relatively unchanged within the observed time-\\nframe of 30 years. This suggests a compensatory up-\\nregulation in other cerebral regions to maintain near-\\nsteady overall neural activity, which is consistent with\\nthe original work [1]. Hence, within the confines of this\\nrudimentary model of adaptation, the fluctuation in os-\\ncillation amplitude may act as an early indicator of the\\noverarching transition in the system’s dynamics, regard-\\nless of the degree of homeostatic adaptation.\\nFIG. 13: Variations in oscillation amplitude correlate\\nwith changes in the homeostasis parameter based on 3\\nrealizations. Increasing homeostatic modifies the\\nprogression of amplitude decline without affecting the\\ninitial timing of this decrease. The global mean\\noscillation amplitude (grey/black lines) shows how the\\nslope varies for different homeostasis parameters; in the\\nextreme case ξ = 1, the oscillation amplitude remains\\nas in figure (12). In a similar pattern, the average\\namplitude observed in the limbic lobe, represented by\\nblue lines, demonstrates consistent behaviour. For\\nreference, C(T) is shown as the solid grey line.\\nH.\\nDecay in speed slows Global Cognitive Decline\\nAssuming that the speed is dependent on fibre con-\\nnectivity between two nodes, our aim here was to cap-\\nture the decay in speed within a neural network sys-\\ntem. Assuming, that the speed is dependent on fiber\\nconnectivity between two nodes represented by a se-\\nries of weight matrices across multiple time points. The\\nmethod operates by computing the Euclidean norms of\\nconsecutive weight matrices similar to equation (15),\\nthereby quantifying the magnitude of change in neu-\\nral connectivity between time points.\\nBy comparing\\nthese norms, a decay rate is derived, reflecting the rel-\\native change in connectivity strength over time. This\\ndecay rate is then utilized to adjust the speed of trans-\\nmission between the nodes, influencing the dynamics of\\nthe neural network model. Overall, the method offered\\nno drastic shift in the decline of the average oscillatory\\namplitude for the global as well as the limbic region, as\\nshown in figure (14).\\nIV.\\nDISCUSSION\\nDecay in axonal velocity Our model assumes a\\nconstant axonal transmission speed (1.5 m/s), even as\\nstructural and functional degradation occurs.\\nHow-\\never, emerging research suggests that this speed may\\ndecline as diseases like Alzheimer’s progress, influenc-\\ning the delays calculated between nodes in our neural\\nnetwork model as in figure (4).\\nNotably, the reduc-\\ntion of axonal velocity is a recognized consequence of\\nAlzheimer’s, elucidated in the recent study by [Author\\n\\n10\\nFIG. 14: Alterations in oscillation amplitude are\\nobserved with and without the decay in the speed\\nbased on 3 realizations. The mean oscillation\\namplitude (black/gray lines) globally and for region\\nlimbic (blue/light blue) does not vary much after\\nincluding the decay in the speed when compared to\\nspeed being constant as in the original paper. For\\nreference, C(T) is shown by the solid grey line.\\net al., 2023], which provides a detailed account of how\\nAlzheimer’s affects axonal velocity and its underlying\\nmechanisms [20]. Complementary findings from animal\\nmodels also support this hypothesis, as observed in a\\nmurine Alzheimer’s model, which showed a correlation\\nbetween the presence of the disease and a diminished\\nconduction speed [21].\\nMoreover, observations of de-\\ncreased axonal velocity in peripheral human nerves fur-\\nther corroborate this assertion, as documented in the\\nliterature [22]. To incorporate these findings into our\\nmodel, we propose modifying the constant axonal trans-\\nmission speed to a variable that declines over time in\\ncorrelation with disease progression. Such modification\\ncan be expressed through a set of equations governing\\nthe decay in transmission speed along with adaptation.\\nAdvancing on the results in figure 14, this integrated\\nmodel can effectively capture the dynamic changes in\\nneural communication as the disease advances.\\nThis\\nrefinement may provide a more accurate simulation of\\nthe brain’s connectivity and could shed light on the\\ntiming and extent of cognitive decline.\\nBy incorpo-\\nrating a decaying speed factor into the delay calcula-\\ntions—effectively a function of both path length and\\na dynamically reducing velocity parameter—the model\\nwill provide a more nuanced depiction of neurodegener-\\native progression, potentially improving the prediction\\naccuracy of cognitive impairment stages.”\\nHemispheric Differences Variation within a re-\\ngion was not surprising given the varied edges and\\nweights of nodes. The rise then fall of damage asymme-\\ntry also makes sense given how we quantified damage,\\nwith equivalent nodes converging as theoretical maxi-\\nmum damage is approached due to the lagging hemi-\\nsphere catching up. Distribution of peaks and damage\\nprogression show different patterns between the hemi-\\nspheres generally and also within individual regions.\\nThis is interesting, as the seed nodes were the entorhi-\\nnal nodes in both hemispheres.\\nAsymmetric progres-\\nsion of Alzheimer’s is well established with divergent\\nrates of atrophy seen by Bugiani et al[23], with left\\nleading progression more common, though there were\\ncases of the opposite.\\nThis demonstrated that either\\nhemisphere can lead in asymmetrical progression. Our\\nresults aligned, also showed a general trend of faster dis-\\nease progression in the left hemisphere compared to the\\nright, with exception a variety of exceptions. Tremblay\\net al[24] corroborated left hemisphere bias in cases with\\nsignificant asymmetry, though most cases did present\\nwith significant asymmetry. However, this comparison\\ncovered the hemispheres as a whole and individual re-\\ngions were often noted to be different. Results (10 show\\nbroad variation in damage within a single region and\\nbetween equivalent nodes of opposite hemispheres (fig-\\nure [fig:hemisphere˙plot]) it would be interesting to\\ncompare our findings for individual nodes to biological\\nequivalents, for a more detailed analysis.\\nThe budapest connectome [6] is constructed from an\\namalgamation of scans, so the distinct individual differ-\\nences within people may have been lost.\\nGiven this\\nlimitation there may be some utility in running our\\nmodel on data taken from single individuals. Tremblay\\net al[24] also found that divergence increases with pro-\\ngression, contradicting our results (figure 11). This may\\nbe due to the limitations of our model, which quantifies\\ndamage somewhat simplistically. Alternatively, it may\\nbe due to the fact that out model has a specified sim-\\nulation time span of 30 years, in contrast, people may\\nsimply die when disease severity becomes great enough.\\nIf patients die before the lagging hemisphere catches up,\\nthis would lead to a pattern of increased divergence un-\\ntil death. We could extend the model by implementing\\na way to estimate time of death following disease onset,\\nand see if the asymmetric difference in damage until\\ntime of death more closely models the progression in\\nreal patients.\\nBrain Connectome The results of our replication\\nof Goriely et al.’s model align with those in the origi-\\nnal paper [1]. However, the connectome used has great\\nimportance in modelling disease progression.\\nUsing\\na different connectome could cause different dynamics\\ndepending on the edge weights and node categoriza-\\ntion used. Therefore, experimenting with other connec-\\ntomes could help make the model more generalisable\\nas it would highlight any discrepancies that occur due\\nto the connectome data. Some such connectomes are\\nthe HCP Lifespan connectomes. Connectomes such as\\nthese could allows us the model the differences in dis-\\nease progression between age groups [25]. Another key\\nconsideration is the directionality that is inherent in ax-\\nonal bundles. This would cause asymmetry within the\\nweight matrix and therefore greatly effect the dynamics\\noccurring within neurodegenerative disease progression.\\nHowever, no human brain connectomes currently exist\\nthat are suitable for used in this model. A directional\\nmouse connectome exists that has been used for mod-\\nelling protein transport but to truly understand human\\nneurodegenerative diseases a human connectome would\\n\\nREFERENCES\\n11\\nbe best [26].\\nRegional Network Damage and Protein Seed-\\ning An important factor to consider when looking at\\nregional network damage are the location of the seed\\nnodes.\\nThe entorhinal nodes were used as the seed\\nnodes due to them exhibiting the earliest signs of dam-\\nage from Alzheimer’s disease [27]. Experimenting with\\nother seed nodes may be valuable in providing informa-\\ntion on the progression of damage and disease in other\\nneurodegenerative disorders. This model is based upon\\nthat in Weickermen et al [14], who were able to model\\nthe prgression of other neurodegenerative diseased such\\nas Parkinson’s disease and amyotrophic lateral sclerosis\\n(ALS) through modelling the spread of α-synuclein, and\\nTDP-43, respectively.\\nMany neurogenerative diseases such as ALS act be-\\nyond the brain, causing deterioration of motor neurons\\nwithin nerve cells and the spinal cord [28]. Given the\\nsuccess of [14] at modelling ALS within the brain, ex-\\ntending the model to also include nodes for the spinal\\ncord or peripheral nerves, with the aim to better model\\nALS progression, could provide beneficial information\\non the progression of the disease.\\nAnother possible scenario that could be explored\\nwould be the possibility of nodes in multiple regions\\nbeing seed nodes, which would inevitably alter disease\\nprogression. It would allow us to model different dis-\\neases more appropriately. This could potentially prove\\nmore accurate when modelling a disease like Hunting-\\nton’s, which is unlikely to start in a single location due\\nto its nature as a genetic disease and the ubiquity of\\nthe expression of the toxic protein Huntingtin.\\nDe-\\nspite these differences, Huntington’s progression shows\\nsome evidence for prion-like mechanisms[29], and ar-\\neas of high Huntingtin concentration have already been\\nlocated within the striatum (specifically the caudate\\nnucleus and putamen)[30] that show promise as seed\\nnodes. Applying this information to the model would\\nallow us to gain a better insight into how the regional\\ndamage changes as the disease progresses.\\nV.\\nCONCLUSION\\nWe were able to replicate the model and key findings\\nfor Goriely et al [1]. This included their findings that\\nadge weight alteration over the course of disease pro-\\ngression had little impact on overall disease progression\\n(figure 5). We were also able to replicate the disease\\nstaging they observed using their model (figure 6) as\\nwell as when implementing a heterodimer model of pro-\\ntein spread (figure 7). Fornari et al’s[10] heterodimer\\nmodel did not track limbic nodes, so by using the re-\\ngions used in Goriely et al[1], we were able to show that\\nlimbic disease progression precedes all other regions in\\na heterodimer model too.\\nSimilarly to Goriely et al,\\nwe found a decline in neural biomarkers with disease\\nprogression (figure 12)\\nInvestigating the difference in damage between hemi-\\nspheres we were able to find variation in disease progres-\\nsion within nodes of a region and between regions (figure\\n10) broadly in line with biological findings. Differences\\nbetween equivalent nodes in different hemispheres were\\nobserved, demonstrating the model is capable of captur-\\ning asymmetric progression (figure 11). Analysis of the\\ndynamic biomarkers revealed their predictive capacity\\nfor a substantial decline in cognitive functions spanning\\na ten-year period.\\nOverall, the model created by Goriely et al[1] pro-\\nvided insights into the dynamics that occur within neu-\\nrodegenerative diseases and how they affect brain func-\\ntion [1]. By experimenting with their model, we were\\nable to both confirm their findings and obtain some\\nnovel insights, as well as potential avenues for further\\nexploration.\\nVI.\\nACKNOWLEDGEMENTS AND\\nCONTRIBUTIONS\\nZongyuan Cai, Zakaria Taghi, Shayan Shafquat, and\\nYoussef Hafid made equal contributions to all facets of\\nthis research. They collaborated in conceptualization,\\nmethodology design, data analysis, result interpreta-\\ntion, and manuscript preparation. Their collective effort\\nensured a comprehensive approach to advancing schol-\\narly knowledge in the field. Many thanks to Dr. Markus\\nOwen for is assistance and guidance with this project.\\nWe would also like to thank Alain Goriely, Ellen Kuhl\\nand Christian Bick for creating the model, and their\\nassistance with obtaining materials to replicate it.\\nREFERENCES\\n1.\\nGoriely A, Kuhl E, and Bick C. Neuronal Oscillations\\non Evolving Networks: Dynamics, Damage, Degrada-\\ntion, Decline, Dementia, and Death. Phys. Rev. Lett.\\n2020 Sep; 125(12):128102\\n2.\\nJack CRJ, Bennett DA, Blennow K, Carrillo MC, Dunn\\nB, Haeberlein SB, Holtzman DM, Jagust W, Jessen F,\\nKarlawish J, Liu E, Molinuevo JL, Montine T, Phelps\\nC, Rankin KP, Rowe CC, Scheltens P, Siemers E, Sny-\\nder HM, Sperling R, and Contributors. NIA-AA Re-\\nsearch Framework: Toward a biological definition of\\nAlzheimer’s disease. Alzheimer’s & Dementia\\n2018;\\n14(4):535–62\\n3.\\nScheltens P, Blennow K, Breteler MM, De Strooper B,\\nFrisoni GB, Gauthier S, Jones LA, et al. Alzheimer’s\\ndisease. The Lancet 2021; 397(10284):1577–90\\n4.\\nThangwaritorn S, Lee C, Metchikoff E, Razdan V, Gha-\\nfary S, Rivera D, Pinto A, and Pemminati S. A Review\\nof Recent Advances in the Management of Alzheimer’s\\nDisease. Cureus 2024 Apr\\n5.\\nJucker\\nM\\nand\\nWalker\\nLC.\\nSelf-propagation\\nof\\npathogenic protein aggregates in neurodegenerative dis-\\neases. Nature 2013 Sep; 501:45–51\\n\\nREFERENCES\\n12\\n6.\\nSzalkai B, Kerepesi C, Varga B, and Grolmusz V. Pa-\\nrameterizable consensus connectomes from the Human\\nConnectome Project: the Budapest Reference Connec-\\ntome Server v3.0. Cognitive Neurodynamics 2016 Sep;\\n11:113–6\\n7.\\nCalignon A de, Polydoro M, Su´arez-Calvet M, William\\nC, Adamowicz DH, Kopeikina KJ, Pitstick R, Sahara\\nN, Ashe KH, Carlson GA, Spires-Jones TL, and Hyman\\nBT. Propagation of Tau Pathology in a Model of Early\\nAlzheimer’s Disease. Neuron 2012 Feb; 73:685–97\\n8.\\nWilson HR and Cowan JD. A mathematical theory of\\nthe functional dynamics of cortical and thalamic ner-\\nvous tissue. Kybernetik 1973 Sep; 13:55–80\\n9.\\nDeco G, Jirsa V, McIntosh AR, Sporns O, and K¨otter\\nR. Key role of coupling, delay, and noise in resting brain\\nfluctuations. Proceedings of the National Academy of\\nSciences 2009 Jun; 106:10302–7\\n10.\\nFornari S, Sch¨afer A, Jucker M, Goriely A, and Kuhl\\nE. Prion-like spreading of Alzheimer’s disease within\\nthe brain’s connectome. Journal of The Royal Society\\nInterface 2019 Oct; 16:20190356\\n11.\\nHenderson MX, Cornblath E, Darwich A, Zhang B,\\nBrown H, Gathagan RJ, Sandler RM, Bassett DS,\\nTrojanowski\\nJQ,\\nand\\nLee\\nVMY.\\nQuantitative\\nα-\\nsynuclein pathology mapping and network analysis pro-\\nvide a framework for understanding pathological pro-\\ntein spread. Nature Neuroscience 2019; 22:1248–57\\n12.\\nMcNab JA, Edlow BL, Witzel T, Huang SY, Bhat H,\\nHeberlein K, Feiweier T, Liu K, Keil B, Cohen-Adad J,\\nTisdall MD, Folkerth RD, Kinney HC, and Wald LL.\\nThe Human Connectome Project and beyond: Initial\\napplications of 300mT/m gradients. NeuroImage 2013;\\n80:234–45\\n13.\\nRaj A, Kuceyeski A, and Weiner M. A Network Diffu-\\nsion Model of Disease Progression in Dementia. Neuron\\n2012 Mar; 73:1204–15\\n14.\\nWeickenmeier J, Jucker M, Goriely A, and Kuhl E.\\nA physics-based model explains the prion-like features\\nof neurodegeneration in Alzheimer’s disease, Parkin-\\nson’s disease, and amyotrophic lateral sclerosis. Jour-\\nnal of the Mechanics and Physics of Solids 2019 Mar;\\n124:264–81\\n15.\\nPrusiner SB, Scott M, Foster D, Pan KM, Groth D,\\nMirenda C, Torchia M, Yang SL, Serban D, Carl-\\nson GA, Hoppe PC, Westaway D, and DeArmond SJ.\\nTransgenetic studies implicate interactions between ho-\\nmologous PrP isoforms in scrapie prion replication. Cell\\n1990 Nov; 63(4):673–86\\n16.\\nDeco G, Cabral J, Woolrich MW, Stevner A, Van\\nHartevelt TJ, and Kringelbach ML. Single or multi-\\nple frequency generators in on-going brain activity: A\\nmechanistic whole-brain model of empirical MEG data.\\nNeuroImage 2017; 152:538–50\\n17.\\nUhlhaas PJ and Singer W. Neural synchrony in brain\\ndisorders: relevance for cognitive dysfunctions and\\npathophysiology. Neuron 2006; 52:155–68\\n18.\\nMarkram H, Gerstner W, and Sj¨ostr¨om PJ. Spike-\\nTiming-Dependent\\nPlasticity:\\nA\\nComprehensive\\nOverview. Frontiers in synaptic neuroscience\\n2012\\nJan; 4\\n19.\\nRabinovich MI, Afraimovich V, Bick C, and Varona P.\\nInformation flow dynamics in the brain. Physics of life\\nreviews 2012 Mar; 9:51–73\\n20.\\nDan L and Zhang Z. Alzheimer’s disease: an axonal\\ninjury disease? Frontiers in Aging Neuroscience\\n2023\\nOct; 15\\n21.\\nGelman S, Palma J, and Ghavami A. Axonal Conduc-\\ntion Velocity in CA1 Area of Hippocampus is Reduced\\nin Mouse Models of Alzheimer’s Disease. Journal of\\nAlzheimer’s Disease 2020 Oct; 77:1383–8\\n22.\\nQian X, Yue L, Mellor D, Robbins NM, Li W, and\\nXiao S. Reduced Peripheral Nerve Conduction Veloc-\\nity is Associated with Alzheimer’s Disease: A Cross-\\nSectional Study from China. Neuropsychiatric Disease\\nand Treatment 2022 Feb; Volume 18:231–42\\n23.\\nO, Bugiani J, Constantinidis B, Ghetti C, Boura\\nF, and Tagliavini. Asymmetrical cerebral atrophy in\\nAlzheimer’s disease. Clinical neuropathology 1991 Feb;\\n10:55–0\\n24.\\nTremblay C, Serrano GE, Intorcia AJ, Curry J, Sue LI,\\nNelson CM, Walker JE, Glass MJ, Arce RA, Fleisher\\nAS, Pontecorvo MJ, Atri A, Montine TJ, Chen K, and\\nBeach TG. Hemispheric Asymmetry and Atypical Lo-\\nbar Progression of Alzheimer-Type Tauopathy. Journal\\nof Neuropathology amp; Experimental Neurology 2022\\nFeb; 81:158–71\\n25.\\nBookheimer SY, Salat DH, Terpstra M, Ances BM,\\nBarch DM, Buckner RL, Burgess GC, Curtiss SW,\\nDiaz-Santos M, Elam JS, Fischl B, Greve DN, Hagy\\nHA, Harms MP, Hatch OM, Hedden T, Hodge C,\\nJapardi KC, Kuhn TP, Ly TK, Smith SM, Somerville\\nLH, U˘gurbil K, Kouwe A van der, Essen DV, Woods\\nRP, and Yacoub E. The Lifespan Human Connectome\\nProject in Aging: An overview. NeuroImage 2019 Jan;\\n185:335–48\\n26.\\nOh SW, Harris JA, Ng L, Winslow B, Cain N, Mihalas\\nS, Wang Q, Lau C, Kuan L, Henry AM, Mortrud MT,\\nOuellette B, Nguyen TN, Sorensen SA, Slaughterbeck\\nCR, Wakeman W, Li Y, Feng D, Ho A, Nicholas E,\\nHirokawa KE, Bohn P, Joines KM, Peng H, Hawrylycz\\nMJ, Phillips JW, Hohmann JG, Wohnoutka P, Gerfen\\nCR, Koch C, Bernard A, Dang C, Jones AR, and Zeng\\nH. A mesoscale connectome of the mouse brain. Nature\\n2014 Apr; 508:207–14\\n27.\\nIgarashi\\nKM.\\nEntorhinal\\ncortex\\ndysfunction\\nin\\nAlzheimer’s disease. Trends in Neurosciences 2023 Feb;\\n46(2):124–36\\n28.\\nMorris J. Amyotrophic Lateral Sclerosis (ALS) and Re-\\nlated Motor Neuron Diseases: An Overview. The Neu-\\nrodiagnostic Journal 2015 Sep; 55(3):180–94\\n29.\\nDonnelly KM, Coleman CM, Fuller ML, Reed VL, Sme-\\nrina D, Tomlinson DS, and Pearce MMP. Hunting for\\nthe cause: Evidence for prion-like mechanisms in Hunt-\\nington’s disease. Frontiers in Neuroscience 2022 Aug;\\n16\\n30.\\nMonte SM de la, Vonsattel JP, and Richardson EP.\\nMorphometric Demonstration of Atrophic Changes in\\nthe Cerebral Cortex, White Matter, and Neostriatum in\\nHuntington’s Disease. Journal of Neuropathology Ex-\\nperimental Neurology 1988 Sep; 47(5):516–25\\n\\n'"
      ]
     },
     "execution_count": 7,
     "metadata": {},
     "output_type": "execute_result"
    }
   ],
   "source": [
    "filename = \"../uploads/PBM_2.pdf\"\n",
    "extract_text(filename)"
   ]
  },
  {
   "cell_type": "code",
   "execution_count": 40,
   "metadata": {},
   "outputs": [],
   "source": [
    "def chunk_text(text: str, chunk_size: int = 1000, chunk_overlap: int = 200) -> List[str]:\n",
    "    text_splitter = RecursiveCharacterTextSplitter(\n",
    "        chunk_size=chunk_size,\n",
    "        chunk_overlap=chunk_overlap,\n",
    "        length_function=len,\n",
    "    )\n",
    "    return text_splitter.split_text(text)"
   ]
  },
  {
   "cell_type": "code",
   "execution_count": 41,
   "metadata": {},
   "outputs": [],
   "source": [
    "chunks = chunk_text(extract_text(filename))"
   ]
  },
  {
   "cell_type": "code",
   "execution_count": 33,
   "metadata": {},
   "outputs": [
    {
     "data": {
      "text/plain": [
       "67"
      ]
     },
     "execution_count": 33,
     "metadata": {},
     "output_type": "execute_result"
    }
   ],
   "source": [
    "len(chunks)"
   ]
  },
  {
   "cell_type": "code",
   "execution_count": 70,
   "metadata": {},
   "outputs": [],
   "source": [
    "EMBEDDING_MODEL = \"intfloat/e5-large-v2\""
   ]
  },
  {
   "cell_type": "code",
   "execution_count": 71,
   "metadata": {},
   "outputs": [
    {
     "name": "stderr",
     "output_type": "stream",
     "text": [
      "/Users/shayan/anaconda3/envs/genai/lib/python3.11/site-packages/sentence_transformers/cross_encoder/CrossEncoder.py:13: TqdmWarning: IProgress not found. Please update jupyter and ipywidgets. See https://ipywidgets.readthedocs.io/en/stable/user_install.html\n",
      "  from tqdm.autonotebook import tqdm, trange\n"
     ]
    }
   ],
   "source": [
    "embeddings = HuggingFaceEmbeddings(\n",
    "    model_name = EMBEDDING_MODEL,\n",
    ")\n",
    "\n",
    "INDEX_FILE = \"faiss_index.bin\"\n",
    "\n",
    "def create_or_load_index(dimension: int):\n",
    "    if os.path.exists(INDEX_FILE):\n",
    "        index = faiss.read_index(INDEX_FILE)\n",
    "    else:\n",
    "        index = faiss.IndexFlatL2(dimension)\n",
    "    return index\n",
    "\n",
    "def save_index(index):\n",
    "    faiss.write_index(index, INDEX_FILE)\n",
    "\n",
    "def store_chunks(chunks: List[str], metadata: dict):\n",
    "    vectors = embeddings.embed_documents(chunks)\n",
    "    \n",
    "    index = create_or_load_index(len(vectors[0]))\n",
    "    \n",
    "    index.add(np.array(vectors, dtype=np.float32))\n",
    "    \n",
    "    save_index(index)"
   ]
  },
  {
   "cell_type": "code",
   "execution_count": 11,
   "metadata": {},
   "outputs": [],
   "source": [
    "from langchain.vectorstores import FAISS\n",
    "\n",
    "embeddings = HuggingFaceEmbeddings()\n",
    "\n",
    "INDEX_FILE = \"faiss_index.bin\"\n",
    "\n",
    "def create_or_load_faiss_index(chunks: List[str]):\n",
    "    if os.path.exists(INDEX_FILE):\n",
    "        index = FAISS.load_local(INDEX_FILE, embeddings)\n",
    "    else:\n",
    "        vectors = embeddings.embed_documents(chunks)\n",
    "        index = FAISS.from_texts(chunks, embeddings)\n",
    "        index.save_local(INDEX_FILE)\n",
    "    return index\n",
    "\n",
    "def store_chunks(chunks: List[str], metadata: dict):\n",
    "    index = create_or_load_faiss_index(chunks)\n",
    "    index.save_local(INDEX_FILE)\n",
    "\n",
    "def search_similar_chunks(query: str, k: int = 5):\n",
    "    # Load the FAISS index\n",
    "    index = create_or_load_faiss_index([])\n",
    "    similar_chunks = index.similarity_search(query, k=k)\n",
    "    return similar_chunks"
   ]
  },
  {
   "cell_type": "code",
   "execution_count": 12,
   "metadata": {},
   "outputs": [
    {
     "ename": "",
     "evalue": "",
     "output_type": "error",
     "traceback": [
      "\u001b[1;31mThe Kernel crashed while executing code in the current cell or a previous cell. \n",
      "\u001b[1;31mPlease review the code in the cell(s) to identify a possible cause of the failure. \n",
      "\u001b[1;31mClick <a href='https://aka.ms/vscodeJupyterKernelCrash'>here</a> for more info. \n",
      "\u001b[1;31mView Jupyter <a href='command:jupyter.viewOutput'>log</a> for further details."
     ]
    }
   ],
   "source": [
    "store_chunks(chunks[:2], filename)"
   ]
  },
  {
   "cell_type": "code",
   "execution_count": null,
   "metadata": {},
   "outputs": [
    {
     "ename": "",
     "evalue": "",
     "output_type": "error",
     "traceback": [
      "\u001b[1;31mThe Kernel crashed while executing code in the current cell or a previous cell. \n",
      "\u001b[1;31mPlease review the code in the cell(s) to identify a possible cause of the failure. \n",
      "\u001b[1;31mClick <a href='https://aka.ms/vscodeJupyterKernelCrash'>here</a> for more info. \n",
      "\u001b[1;31mView Jupyter <a href='command:jupyter.viewOutput'>log</a> for further details."
     ]
    }
   ],
   "source": [
    "vectors = embeddings.embed_documents(chunks[1])\n",
    "print(vectors)"
   ]
  },
  {
   "cell_type": "code",
   "execution_count": 42,
   "metadata": {},
   "outputs": [],
   "source": [
    "from langchain.embeddings import OpenAIEmbeddings\n",
    "from langchain.vectorstores import FAISS"
   ]
  },
  {
   "cell_type": "code",
   "execution_count": 43,
   "metadata": {},
   "outputs": [
    {
     "data": {
      "text/plain": [
       "['”Neuronal Oscillations on Evolving Networks: Dynamics, Damage, Degradation,\\nDecline, Dementia and Death”: A review and extension of Goreily et al. (2020)\\nShayan Shafquat,1 Zongyuan Cai,1 Youssef Hafid,1 and Zakaria Taghi1\\n1School of Psychology, University of Nottingham, Nottingham, NG7 2RD, UK\\n(Dated: May 6, 2024)\\nThe paper ”Neuronal Oscillations on Evolving Networks: Dynamics, Damage, Degradation, De-\\ncline, Dementia, and Death” by Goreily et al. (2020) delves into the effects of neurodegenerative\\ndiseases on brain neural networks [1]. The degradation caused by these diseases affects not only the\\nnodes themselves but the strength of the connections between these nodes. The resulting connec-\\ntome evolves as the disease progresses, with damage caused by the disease affecting the spreading of\\nthe disease, although minutely. The progression of the disease is modelled through both toxic pro-']"
      ]
     },
     "execution_count": 43,
     "metadata": {},
     "output_type": "execute_result"
    }
   ],
   "source": [
    "chunks[:1]"
   ]
  },
  {
   "cell_type": "code",
   "execution_count": 44,
   "metadata": {},
   "outputs": [
    {
     "name": "stderr",
     "output_type": "stream",
     "text": [
      "/Users/shayan/anaconda3/envs/genai/lib/python3.11/site-packages/langchain/embeddings/openai.py:214: UserWarning: WARNING! api_key is not default parameter.\n",
      "                    api_key was transferred to model_kwargs.\n",
      "                    Please confirm that api_key is what you intended.\n",
      "  warnings.warn(\n"
     ]
    }
   ],
   "source": [
    "embeddings = OpenAIEmbeddings(api_key=openai.api_key)\n",
    "# store in vector db\n",
    "db = FAISS.from_texts(chunks[:10], embeddings)"
   ]
  },
  {
   "cell_type": "code",
   "execution_count": 46,
   "metadata": {},
   "outputs": [],
   "source": [
    "hash_name = f\"{filename.replace(' ', '-')}\"\n",
    "db.save_local(f'faiss_{hash_name}_index')\n",
    "index_file = f'faiss_{hash_name}_index'"
   ]
  },
  {
   "cell_type": "code",
   "execution_count": 47,
   "metadata": {},
   "outputs": [],
   "source": [
    "def search_similar_chunks(query: str, k: int = 5):\n",
    "    index = FAISS.load_local(index_file, embeddings)\n",
    "    similar_chunks = index.similarity_search(query, k=k)\n",
    "    return similar_chunks"
   ]
  },
  {
   "cell_type": "code",
   "execution_count": 49,
   "metadata": {},
   "outputs": [],
   "source": [
    "indices = search_similar_chunks(\"What is the main idea of the paper?\", 5)"
   ]
  },
  {
   "cell_type": "code",
   "execution_count": 52,
   "metadata": {},
   "outputs": [
    {
     "data": {
      "text/plain": [
       "'model of protein conversion[10]. We also aim to utilize\\nthe model to investigate disease progression variation\\nbetween hemispheres.\\nC.\\nAims\\n• To replicate the neural mass and the resting-state\\ndynamics model and extend the findings of Goriely'"
      ]
     },
     "execution_count": 52,
     "metadata": {},
     "output_type": "execute_result"
    }
   ],
   "source": [
    "indices[0].page_content"
   ]
  },
  {
   "cell_type": "code",
   "execution_count": 68,
   "metadata": {},
   "outputs": [],
   "source": [
    "def answer_question(query: str) -> str:\n",
    "    indices = search_similar_chunks(query)\n",
    "    # Assuming you have a way to map indices back to document chunks\n",
    "    context = \" \".join([idx.page_content for idx in indices])\n",
    "    \n",
    "    response = openai.ChatCompletion.create(\n",
    "        model=\"gpt-3.5-turbo\",\n",
    "        messages=[\n",
    "            {\"role\": \"system\", \"content\": \"You are a helpful assistant.\"},\n",
    "            {\"role\": \"user\", \"content\": f\"Context: {context}\\n\\nQuestion: {query}\\nAnswer:\"}\n",
    "        ],\n",
    "        max_tokens=500\n",
    "    )\n",
    "    return response.choices[0]['message']['content']"
   ]
  },
  {
   "cell_type": "code",
   "execution_count": 69,
   "metadata": {},
   "outputs": [
    {
     "name": "stdout",
     "output_type": "stream",
     "text": [
      "The main idea of the paper is to explore the effects of neurodegenerative diseases on brain neural networks, specifically focusing on Alzheimer's disease. The paper describes a model that replicates neural mass dynamics and resting-state dynamics while studying disease progression variation between hemispheres. The model combines a protein spread model with a neural biomarker model, aiming to understand how toxic protein accumulation and connectivity changes impact disease progression. The study aims to replicate and extend previous research findings in order to provide insights into potential early indicators of Alzheimer's disease and better predict cognitive decline over time.\n"
     ]
    },
    {
     "data": {
      "text/plain": [
       "\"The main idea of the paper is to explore the effects of neurodegenerative diseases on brain neural networks, specifically focusing on Alzheimer's disease. The paper describes a model that replicates neural mass dynamics and resting-state dynamics while studying disease progression variation between hemispheres. The model combines a protein spread model with a neural biomarker model, aiming to understand how toxic protein accumulation and connectivity changes impact disease progression. The study aims to replicate and extend previous research findings in order to provide insights into potential early indicators of Alzheimer's disease and better predict cognitive decline over time.\""
      ]
     },
     "execution_count": 69,
     "metadata": {},
     "output_type": "execute_result"
    }
   ],
   "source": [
    "answer_question(\"What is the main idea of the paper?\")"
   ]
  },
  {
   "cell_type": "code",
   "execution_count": null,
   "metadata": {},
   "outputs": [],
   "source": []
  }
 ],
 "metadata": {
  "kernelspec": {
   "display_name": "genai",
   "language": "python",
   "name": "python3"
  },
  "language_info": {
   "codemirror_mode": {
    "name": "ipython",
    "version": 3
   },
   "file_extension": ".py",
   "mimetype": "text/x-python",
   "name": "python",
   "nbconvert_exporter": "python",
   "pygments_lexer": "ipython3",
   "version": "3.11.9"
  }
 },
 "nbformat": 4,
 "nbformat_minor": 2
}
